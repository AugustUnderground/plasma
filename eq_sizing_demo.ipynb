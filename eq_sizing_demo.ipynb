{
 "cells": [
  {
   "cell_type": "markdown",
   "id": "300fc1d1-85fd-4399-877f-89c558ef32a4",
   "metadata": {},
   "source": [
    "# Symmetrical Operational Amplifier\n",
    "\n",
    "Here we shall use the models obtained from `eq_mapping_demo` and size the Symmetrical OP shown below\n",
    "\n",
    "![](https://raw.githubusercontent.com/AugustUnderground/smacd2021-b4.4/0a72aa681382dfdbaa185a33c2868aca6cc498c8/notebooks/fig/sym.png)\n"
   ]
  },
  {
   "cell_type": "markdown",
   "id": "2eeb5319-0f38-4d33-a185-004b1a508b4e",
   "metadata": {},
   "source": [
    "## Requirements\n",
    "\n",
    "This requires [AC²E](https://github.com/matthschw/ace) and [HAC²E](https://github.com/AugustUnderground/hace) to be setup correctly."
   ]
  },
  {
   "cell_type": "code",
   "execution_count": 1,
   "id": "7610f646-9771-42d5-879a-b330afdce78c",
   "metadata": {},
   "outputs": [],
   "source": [
    "import os, datetime, time, sys\n",
    "import numpy as np\n",
    "import torch as pt\n",
    "import pandas as pd\n",
    "import joblib as jl\n",
    "import hace as ac\n",
    "from functools import partial\n",
    "from expression import compose, pipe\n",
    "from skopt import gp_minimize, forest_minimize, gbrt_minimize, dummy_minimize\n",
    "from skopt import dump, load\n",
    "from skopt.space import Real\n",
    "from skopt.utils import use_named_args\n",
    "from skopt.plots import plot_convergence, plot_objective, plot_evaluations, plot_regret\n",
    "import matplotlib as mpl\n",
    "from matplotlib import pyplot as plt\n",
    "import seaborn as sns\n",
    "from sklearn.preprocessing import MinMaxScaler, minmax_scale\n",
    "from fastprogress.fastprogress import master_bar, progress_bar"
   ]
  },
  {
   "cell_type": "code",
   "execution_count": 2,
   "id": "d6371a9f-f1f0-4d24-98fd-1620ebef3659",
   "metadata": {},
   "outputs": [],
   "source": [
    "class PlasmaModel:\n",
    "    def __init__(self, path: str, params_x: [str], params_y: [str], trafo_x: [str], trafo_y: [str]):\n",
    "        self.params_x = params_x\n",
    "        self.params_y = params_y\n",
    "        \n",
    "        self.mask_x   = np.array([int(px in trafo_x) for px in self.params_x])\n",
    "        self.mask_y   = np.array([int(py in trafo_y) for py in self.params_y])\n",
    "        \n",
    "        self.scaler_x = jl.load(f\"{path}/scale.X\")\n",
    "        self.scaler_y = jl.load(f\"{path}/scale.Y\")\n",
    "        self.scale_x  = lambda X: self.scaler_x.transform(X)\n",
    "        self.scale_y  = lambda Y: self.scaler_y.inverse_transform(Y)\n",
    "        \n",
    "        self.trafo_x  = lambda X: (np.log10(np.abs(X), where = (np.abs(X) > 0)) * self.mask_x) + (X * (1 - self.mask_x))\n",
    "        self.trafo_y  = lambda Y: (np.power(10, Y) * self.mask_y) + (Y * (1 - self.mask_y))\n",
    "        \n",
    "        self.model    = pt.jit.load(f\"{path}/model.pt\").cpu().eval()\n",
    "    \n",
    "    def _predict(self, X: np.array) -> np.array:\n",
    "        with pt.no_grad():\n",
    "            return pipe( X\n",
    "                       , self.trafo_x\n",
    "                       , self.scale_x\n",
    "                       , np.float32\n",
    "                       , pt.from_numpy\n",
    "                       , self.model\n",
    "                       , pt.Tensor.numpy\n",
    "                       , self.scale_y\n",
    "                       , self.trafo_y\n",
    "                       , )\n",
    "        \n",
    "    def predict(self, X: pd.DataFrame) -> pd.DataFrame:\n",
    "        Y = pd.DataFrame( self._predict(X[self.params_x].values)\n",
    "                        , columns = self.params_y ).dropna()\n",
    "        return Y"
   ]
  },
  {
   "cell_type": "markdown",
   "id": "95b36a56-3f0b-4e3a-af85-958f925d356c",
   "metadata": {},
   "source": [
    "## Setup\n",
    "\n",
    "Here we setup the circuit and device equation models"
   ]
  },
  {
   "cell_type": "code",
   "execution_count": 3,
   "id": "b04f547e-8a4a-4e82-8e67-4d9d16fe6cd1",
   "metadata": {},
   "outputs": [],
   "source": [
    "technology  = \"xh035\"\n",
    "\n",
    "ace_id      = \"op2\"                 # ACE ID for Symmetrical Amplifier\n",
    "ace_backend = f\"{technology}-3V3\"   # Backend should correspond to PDK used for equation models\n",
    "\n",
    "nmos_path   = f\"./models/eq-20220127-070528-nmos-{technology}\"\n",
    "pmos_path   = f\"./models/eq-20220127-072759-pmos-{technology}\"\n",
    "\n",
    "params_x    = [\"gmoverid\", \"fug\", \"Vds\", \"Vbs\"]\n",
    "params_y    = [\"idoverw\", \"L\", \"gdsoverw\", \"Vgs\"]\n",
    "\n",
    "trafo_x     = [\"fug\"]\n",
    "trafo_y     = [\"idoverw\", \"gdsoverw\"]\n",
    "\n",
    "devices     = [\"MNCM11\", \"MNCM31\", \"MND11\", \"MPCM221\"]\n",
    "branches    = [\"IB1\", \"IB2\"]"
   ]
  },
  {
   "cell_type": "code",
   "execution_count": 4,
   "id": "fd3485ff-c840-492e-95d2-11b636c02734",
   "metadata": {},
   "outputs": [],
   "source": [
    "sym_amp = ac.make_env(ace_id, ace_backend)"
   ]
  },
  {
   "cell_type": "code",
   "execution_count": 5,
   "id": "1e636b26-1f4b-48e3-bc51-c735d2eb68f6",
   "metadata": {},
   "outputs": [],
   "source": [
    "nmos = PlasmaModel(nmos_path, params_x, params_y, trafo_x, trafo_y)\n",
    "pmos = PlasmaModel(pmos_path, params_x, params_y, trafo_x, trafo_y)\n",
    "γ_n  = nmos.predict\n",
    "γ_p  = pmos.predict"
   ]
  },
  {
   "cell_type": "markdown",
   "id": "da0f8e8b-3482-48d2-893e-31941d00979a",
   "metadata": {
    "tags": []
   },
   "source": [
    "## Sizing\n",
    "\n",
    "In the circuit we have 5 _building blocks_ where the PMOS current mirrors `MPCMXXX` \n",
    "are sized identically leaving us with 4 reference devices that need to be sized:\n",
    "\n",
    "1. `MNCM11`\n",
    "1. `MNCM31`\n",
    "1. `MPCM221`\n",
    "1. `MND11`\n",
    "\n",
    "As sucht, we get to choose 4 $\\frac{g_{\\mathrm{m}}}{I_{\\mathrm{d}}}$s, 4 $f_{\\mathrm{ug}}$s \n",
    "and the branch currents $I_{\\mathtt{B1}}$ and $I_{\\mathtt{B2}}$.\n",
    "\n",
    "### Specification\n",
    "\n",
    "We consider the following values given, i.e. knowledge about the design we have _a priori_.\n",
    "\n",
    "| Parameter             | Specification       |\n",
    "|:----------------------|--------------------:|\n",
    "| $V_{\\mathrm{DD}}$     | $1.8\\,\\mathrm{V}$   |\n",
    "| $V_{\\mathrm{in,cm}}$  | $0.9\\,\\mathrm{V}$   |\n",
    "| $V_{\\mathrm{out,cm}}$ | $0.9\\,\\mathrm{V}$   |\n",
    "| $I_{\\mathtt{B0}}$     | $5\\,\\mathrm{\\mu A}$ |\n",
    "| $C_{\\mathtt{L}}$      | $10\\,\\mathrm{pF}$   |\n",
    "\n",
    "Instead of specifying a target performance from the get go, we shall formulate a sizing \n",
    "procedure that can be executed for arbitrary target performances.\n",
    "We should end up with a function, that maps the electrical characteristics of the 4 _reference devices_ \n",
    "listed above and the 2 branch currents to desired performance parameters.\n",
    "\n",
    "$$\n",
    "\\begin{bmatrix}\n",
    "\\frac{g_{\\mathrm{m}}}{I_{\\mathrm{d}}}_{\\mathtt{MNCM11}} \\\\\n",
    "\\frac{g_{\\mathrm{m}}}{I_{\\mathrm{d}}}_{\\mathtt{MNCM31}} \\\\\n",
    "\\frac{g_{\\mathrm{m}}}{I_{\\mathrm{d}}}_{\\mathtt{MPCM221}} \\\\\n",
    "\\frac{g_{\\mathrm{m}}}{I_{\\mathrm{d}}}_{\\mathtt{MND11}} \\\\\n",
    "f_{\\mathrm{ug}, \\mathtt{MNCM11}} \\\\\n",
    "f_{\\mathrm{ug}, \\mathtt{MNCM31}} \\\\\n",
    "f_{\\mathrm{ug}, \\mathtt{MPCM221}} \\\\\n",
    "f_{\\mathrm{ug}, \\mathtt{MND11}} \\\\\n",
    "I_{\\mathtt{B1}} \\\\\n",
    "I_{\\mathtt{B2}}\n",
    "\\end{bmatrix}\n",
    "\\mapsto\n",
    "\\begin{bmatrix}\n",
    "A_{0} \\\\\n",
    "UGBW \\\\\n",
    "\\vdots\n",
    "\\end{bmatrix}\n",
    "$$\n",
    "\n",
    "In combination with a suitable cost/loss function this will be our optimization objective. \n",
    "For simplicity we will only consider the DC gain $A_{0}$ and the Unity Gain Bandwidth $UGBW$ in this demo."
   ]
  },
  {
   "cell_type": "code",
   "execution_count": 6,
   "id": "b467b5a1-430a-4bd9-92c6-75710cd6911c",
   "metadata": {},
   "outputs": [],
   "source": [
    "V_DD = ac.current_parameters(sym_amp)[\"vsup\"]\n",
    "I_B0 = ac.current_parameters(sym_amp)[\"i0\"]\n",
    "C_L  = ac.current_parameters(sym_amp)[\"cl\"]\n",
    "R_L  = ac.current_parameters(sym_amp)[\"rl\"]"
   ]
  },
  {
   "cell_type": "markdown",
   "id": "076cdedb-68c0-4698-af96-4d0dcbca6afc",
   "metadata": {},
   "source": [
    "### Simplification\n",
    "\n",
    "Some designers prefer to fix certain electrical characteristics of devices. For this example we will fix $\\frac{g_{\\mathrm{m}}}{I_{\\mathrm{d}}} = 10\\,\\mathrm{V}^{-1}$.\n",
    "Additionally, we will choose the branch currents instead of leaving them as design objectives."
   ]
  },
  {
   "cell_type": "code",
   "execution_count": 7,
   "id": "1bc9e9ca-a47d-4c6f-b0a7-61d470743b29",
   "metadata": {},
   "outputs": [],
   "source": [
    "I_B1             = 6e-6\n",
    "I_B2             = 12e-6\n",
    "#gmoverid_MNCM11  = 10.0\n",
    "#gmoverid_MNCM31  = 10.0\n",
    "#gmoverid_MPCM221 = 10.0\n",
    "#gmoverid_MND11   = 10.0"
   ]
  },
  {
   "cell_type": "markdown",
   "id": "bcb0b151-e855-4e4d-b770-bd2992a95367",
   "metadata": {},
   "source": [
    "### Sizing Procedure"
   ]
  },
  {
   "cell_type": "code",
   "execution_count": 8,
   "id": "e6eaff4c-94a0-4ab6-a745-a9b55b4c9144",
   "metadata": {},
   "outputs": [],
   "source": [
    "def sizing_procedure( I_B0, I_B1, I_B2\n",
    "                    , gmoverid_MNCM11, gmoverid_MNCM31, gmoverid_MND11, gmoverid_MPCM221\n",
    "                    , fug_MNCM11     , fug_MNCM31     , fug_MND11     , fug_MPCM221      ):\n",
    "\n",
    "    nmos_input = pd.DataFrame( np.array([ [gmoverid_MNCM11, fug_MNCM11, V_DD / 4.0, 0.0]\n",
    "                                        , [gmoverid_MNCM31, fug_MNCM31, V_DD / 4.0, 0.0]\n",
    "                                        , [gmoverid_MND11 , fug_MND11 , V_DD / 2.0, -(V_DD / 4)] ])\n",
    "                             , columns = params_x )\n",
    "\n",
    "    pmos_input = pd.DataFrame( np.array([ [gmoverid_MPCM221, fug_MPCM221, V_DD / 3.0, 0.0] ])\n",
    "                             , columns = params_x )\n",
    "\n",
    "    nmos_output = γ_n(nmos_input)\n",
    "    pmos_output = γ_p(pmos_input)\n",
    "\n",
    "    design_data = pd.concat( [ pd.concat( [nmos_input , pmos_input], ignore_index = True\n",
    "                                        ).rename(index = dict(zip(range(4), devices)))\n",
    "                             , pd.concat( [nmos_output, pmos_output], ignore_index = True\n",
    "                                        ).rename(index = dict(zip(range(4), devices))) ]\n",
    "                           , axis = 1 )\n",
    "\n",
    "    Mcm11 = 1\n",
    "    Mcm12 = I_B1 // I_B0\n",
    "    Wcm1  = I_B0 / design_data.loc[\"MNCM11\"][\"idoverw\"]\n",
    "    Lcm1  = design_data.loc[\"MNCM11\"][\"L\"]\n",
    "\n",
    "    Mcm21 = 1\n",
    "    Mcm22 = (I_B2 * 2) // I_B1\n",
    "    Wcm2  = (I_B1/2) / design_data.loc[\"MPCM221\"][\"idoverw\"]\n",
    "    Lcm2  = design_data.loc[\"MPCM221\"][\"L\"]\n",
    "\n",
    "    Mcm31 = 2\n",
    "    Mcm32 = Mcm31\n",
    "    Wcm3  = (I_B2 / design_data.loc[\"MNCM31\"][\"idoverw\"]) / Mcm31\n",
    "    Lcm3  = design_data.loc[\"MNCM31\"][\"L\"]\n",
    "    \n",
    "    Md    = 2\n",
    "    Wd    = ((I_B1/2) / design_data.loc[\"MND11\"][\"idoverw\"]) / Md\n",
    "    Ld    = design_data.loc[\"MND11\"][\"L\"]\n",
    "\n",
    "    sizing = { 'Wd':   Wd  , 'Ld':   Ld  , 'Md':    Md\n",
    "             , 'Wcm1': Wcm1, 'Lcm1': Lcm1, 'Mcm11': Mcm11, 'Mcm12': Mcm12\n",
    "             , 'Wcm2': Wcm2, 'Lcm2': Lcm2, 'Mcm21': Mcm21, 'Mcm22': Mcm22\n",
    "             , 'Wcm3': Wcm3, 'Lcm3': Lcm3, 'Mcm31': Mcm31, 'Mcm32': Mcm32 }\n",
    "\n",
    "    return sizing"
   ]
  },
  {
   "cell_type": "markdown",
   "id": "06aa47af-b602-4cca-9511-a60ca9731401",
   "metadata": {},
   "source": [
    "## Design Objective Optimization"
   ]
  },
  {
   "cell_type": "code",
   "execution_count": 9,
   "id": "02e83ebf-ad7c-4b79-ba73-4a84e22cf71b",
   "metadata": {},
   "outputs": [],
   "source": [
    "branches     = [ Real(name = f\"I_B1\", low = 3.0, high = 15.0)\n",
    "               , Real(name = f\"I_B2\", low = 3.0, high = 30.0) ]\n",
    "gmids        = [ Real(name = f\"gmoverid_{d}\", low = 5.0, high = 25.0) \n",
    "                 for d in devices ]\n",
    "fugs         = [ Real(name = f\"fug_{d}\", low = 6.0, high = 9.0) \n",
    "                 for d in devices ]\n",
    "design_space = gmids + fugs # + branches"
   ]
  },
  {
   "cell_type": "markdown",
   "id": "c724ba7f-818f-40ac-adcb-c17101ddaef1",
   "metadata": {},
   "source": [
    "### Target Specification\n",
    "\n",
    "Example target specification \n",
    "\n",
    "| Target                 | Specification                           |\n",
    "|:-----------------------|----------------------------------------:|\n",
    "| DC Gain                | $60\\,\\mathrm{dB}$                       |\n",
    "| Unity Gain Bandwidth   | $7.5\\,\\mathrm{MHz}$                     |\n",
    "| Common Mode Rejectinon | $80.0\\,\\mathrm{dB}$                     |\n",
    "| Power Supply Rejection | $60\\,\\mathrm{dB}$, $90\\,\\mathrm{dB}$    |\n",
    "| Slew Rate              | $3.8\\,\\frac{\\mathrm{V}}{\\mu\\mathrm{s}}$ |\n",
    "| Phase Margin           | $42^{\\circ}$                            |\n",
    "| Gain Margin            | $-20\\,\\mathrm{dB}$                      |\n",
    "| Offset                 | $0\\,\\mathrm{V}$                         |\n"
   ]
  },
  {
   "cell_type": "code",
   "execution_count": 10,
   "id": "948e1cf8-8791-4a38-8fc0-f4b245c56a86",
   "metadata": {},
   "outputs": [],
   "source": [
    "target = { 'a_0':       60.0\n",
    "         , 'ugbw':      7500000.0\n",
    "         , 'cmrr':      80.0\n",
    "         , 'psrr_n':    60.0\n",
    "         , 'psrr_p':    90.0\n",
    "         , 'sr_r':      3800000.0\n",
    "         , 'sr_f':     -3800000.0\n",
    "         , 'pm':        42.0\n",
    "         , 'gm':       -20.0\n",
    "         , 'voff_stat': 0.0\n",
    "         , 'voff_sys':  0.0 }"
   ]
  },
  {
   "cell_type": "markdown",
   "id": "06e3d6f5-15f2-48ee-a6ff-9ca3a5643f3c",
   "metadata": {},
   "source": [
    "### Loss Function"
   ]
  },
  {
   "cell_type": "code",
   "execution_count": 11,
   "id": "449c298a-9bd0-4b2b-a4ca-5c9ff35a8be2",
   "metadata": {},
   "outputs": [],
   "source": [
    "def losses(t, p):\n",
    "    a = lambda x,y: (x - np.nan_to_num(y)) / (x if x != 0 else 1.0)\n",
    "    b = lambda z: (z ** 2) if z >= 1 else ((1 / z) if z > 0 else np.tanh(z))\n",
    "    c = lambda l: np.tanh(l) if l < 0 else l\n",
    "    return { k: c(a(np.abs(t[k]), np.abs(p[k]))) for k in t.keys()}"
   ]
  },
  {
   "cell_type": "markdown",
   "id": "b6d60915-481a-4034-9131-3a16cc47fae7",
   "metadata": {},
   "source": [
    "### Optimizer Setup\n",
    "\n",
    "[scikit-optimize](https://scikit-optimize.github.io/stable/index.html) provides bayesian optimization algorithms. Here we setup a Gaussian Process optimizer."
   ]
  },
  {
   "cell_type": "code",
   "execution_count": 12,
   "id": "78ca4cec-aa38-4944-a929-d6df96f09c57",
   "metadata": {},
   "outputs": [],
   "source": [
    "@use_named_args(dimensions = design_space)\n",
    "def design_objective( gmoverid_MNCM11, gmoverid_MNCM31, gmoverid_MND11, gmoverid_MPCM221\n",
    "                    , fug_MNCM11     , fug_MNCM31     , fug_MND11       , fug_MPCM221 ):\n",
    "    sizing = sizing_procedure( I_B0, I_B1, I_B2\n",
    "                             , gmoverid_MNCM11, gmoverid_MNCM31, gmoverid_MND11, gmoverid_MPCM221\n",
    "                             , *[(10 ** f) for f in [fug_MNCM11, fug_MNCM31, fug_MND11, fug_MPCM221]])\n",
    "    performance = ac.evaluate_circuit(sym_amp, sizing)\n",
    "    loss = sum(losses(target, performance).values())\n",
    "    return loss #np.tanh(loss) if loss < 0 else loss"
   ]
  },
  {
   "cell_type": "code",
   "execution_count": 13,
   "id": "59b6076c-659d-4cf9-9c3b-ea535333ef0d",
   "metadata": {},
   "outputs": [],
   "source": [
    "call_budget   = 128\n",
    "random_starts = 42\n",
    "optimizer     = gp_minimize      # forest_minimize, gbrt_minimize, gp_minimize\n",
    "estimator     = \"GP\"             # \"GP\", \"RF\", \"ET\", \"GBRT\"\n",
    "generator     = \"sobol\"          # \"random\", \"sobol\", \"halton\", \"hammersly\", \"lhs\", \"grid\"\n",
    "acquisitor    = \"EI\"             # \"LCB\", \"EI\", \"PI\", \"gp_hedge\"\n",
    "ξ             = 0.01\n",
    "κ             = 1.96\n",
    "rng           = 666\n",
    "num_jobs      = 42"
   ]
  },
  {
   "cell_type": "code",
   "execution_count": null,
   "id": "9522e95d-97f2-40bc-9532-e6eea6ebcf88",
   "metadata": {},
   "outputs": [],
   "source": [
    "result = optimizer( func                    = design_objective\n",
    "                  , dimensions              = design_space\n",
    "                  , n_calls                 = call_budget\n",
    "                  , n_random_starts         = random_starts\n",
    "                  , base_estimator          = estimator\n",
    "                  , initial_point_generator = generator\n",
    "                  , acq_func                = acquisitor\n",
    "                  , xi                      = ξ\n",
    "                  , kappa                   = κ\n",
    "                  , random_state            = rng\n",
    "                  , n_jobs                  = num_jobs\n",
    "                  , verbose                 = False )"
   ]
  },
  {
   "cell_type": "code",
   "execution_count": null,
   "id": "3c2fde62-5afa-434b-be44-be3aafdf4128",
   "metadata": {},
   "outputs": [],
   "source": [
    "plot_convergence(result);"
   ]
  },
  {
   "cell_type": "markdown",
   "id": "53a921a3-6374-4c24-994c-dc126304cfc5",
   "metadata": {},
   "source": [
    "### Results"
   ]
  },
  {
   "cell_type": "code",
   "execution_count": null,
   "id": "c2967d78-cea7-4a62-85f9-ea9f2bcc0b5b",
   "metadata": {},
   "outputs": [],
   "source": [
    "plot_objective(result);"
   ]
  },
  {
   "cell_type": "code",
   "execution_count": null,
   "id": "ec4b0ef6-397f-401b-8dc6-5ac5c07dcfe8",
   "metadata": {},
   "outputs": [],
   "source": [
    "gmoverid = result.x[:4]\n",
    "fug = [10 ** f for f in result.x[4:]]\n",
    "sizing = sizing_procedure(I_B0, I_B1, I_B2, *gmoverid, *fug)\n",
    "performance = {k: v for k,v in ac.evaluate_circuit(sym_amp, sizing).items() if k in target.keys() }"
   ]
  },
  {
   "cell_type": "code",
   "execution_count": null,
   "id": "9794dd0a-b8b0-4754-a576-d140ac9f2980",
   "metadata": {},
   "outputs": [],
   "source": [
    "performance"
   ]
  }
 ],
 "metadata": {
  "kernelspec": {
   "display_name": "Python 3 (ipykernel)",
   "language": "python",
   "name": "python3"
  },
  "language_info": {
   "codemirror_mode": {
    "name": "ipython",
    "version": 3
   },
   "file_extension": ".py",
   "mimetype": "text/x-python",
   "name": "python",
   "nbconvert_exporter": "python",
   "pygments_lexer": "ipython3",
   "version": "3.9.7"
  }
 },
 "nbformat": 4,
 "nbformat_minor": 5
}
